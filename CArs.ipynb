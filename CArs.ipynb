{
 "cells": [
  {
   "cell_type": "code",
   "execution_count": null,
   "id": "39544a00-270c-4214-9a91-4a18e1fab1f2",
   "metadata": {},
   "outputs": [],
   "source": [
    "import pandas as pd"
   ]
  },
  {
   "cell_type": "code",
   "execution_count": 4,
   "id": "f865a5cb-ab42-46c8-ac10-afab27d47b09",
   "metadata": {},
   "outputs": [],
   "source": [
    "df = pd.read_csv('cars.csv')"
   ]
  },
  {
   "cell_type": "code",
   "execution_count": 6,
   "id": "8bbb0faf-6ea0-4b0d-af8d-d70a6d69e48f",
   "metadata": {},
   "outputs": [
    {
     "name": "stdout",
     "output_type": "stream",
     "text": [
      "   Car;MPG;Cylinders;Displacement;Horsepower;Weight;Acceleration;Model;Origin\n",
      "0   STRING;DOUBLE;INT;DOUBLE;DOUBLE;DOUBLE;DOUBLE;...                        \n",
      "1   Chevrolet Chevelle Malibu;18.0;8;307.0;130.0;3...                        \n",
      "2   Buick Skylark 320;15.0;8;350.0;165.0;3693.;11....                        \n",
      "3   Plymouth Satellite;18.0;8;318.0;150.0;3436.;11...                        \n",
      "4   AMC Rebel SST;16.0;8;304.0;150.0;3433.;12.0;70;US                        \n",
      "5     Ford Torino;17.0;8;302.0;140.0;3449.;10.5;70;US                        \n",
      "6   Ford Galaxie 500;15.0;8;429.0;198.0;4341.;10.0...                        \n",
      "7   Chevrolet Impala;14.0;8;454.0;220.0;4354.;9.0;...                        \n",
      "8   Plymouth Fury iii;14.0;8;440.0;215.0;4312.;8.5...                        \n",
      "9   Pontiac Catalina;14.0;8;455.0;225.0;4425.;10.0...                        \n",
      "10  AMC Ambassador DPL;15.0;8;390.0;190.0;3850.;8....                        \n",
      "11  Citroen DS-21 Pallas;0;4;133.0;115.0;3090.;17....                        \n",
      "12  Chevrolet Chevelle Concours (sw);0;8;350.0;165...                        \n",
      "13  Ford Torino (sw);0;8;351.0;153.0;4034.;11.0;70;US                        \n",
      "14  Plymouth Satellite (sw);0;8;383.0;175.0;4166.;...                        \n"
     ]
    }
   ],
   "source": [
    "print(df.head(15))"
   ]
  },
  {
   "cell_type": "code",
   "execution_count": null,
   "id": "e9986a30-38e2-43ed-9b43-404d3c123de4",
   "metadata": {},
   "outputs": [],
   "source": []
  }
 ],
 "metadata": {
  "kernelspec": {
   "display_name": "Python 3 (ipykernel)",
   "language": "python",
   "name": "python3"
  },
  "language_info": {
   "codemirror_mode": {
    "name": "ipython",
    "version": 3
   },
   "file_extension": ".py",
   "mimetype": "text/x-python",
   "name": "python",
   "nbconvert_exporter": "python",
   "pygments_lexer": "ipython3",
   "version": "3.10.5"
  }
 },
 "nbformat": 4,
 "nbformat_minor": 5
}
